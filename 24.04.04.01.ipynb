{
 "cells": [
  {
   "cell_type": "code",
   "execution_count": 2,
   "id": "8313f2d6-07fe-4768-a079-b1f18c6eafe7",
   "metadata": {},
   "outputs": [],
   "source": [
    "from datetime import datetime"
   ]
  },
  {
   "cell_type": "code",
   "execution_count": 4,
   "id": "6c64a47c-a54a-4fec-a44a-62427b7f1755",
   "metadata": {},
   "outputs": [],
   "source": [
    "my_year = 2020\n",
    "my_month = 1\n",
    "my_day = 2\n",
    "my_hour = 13\n",
    "my_min = 30\n",
    "my_sce = 15"
   ]
  },
  {
   "cell_type": "code",
   "execution_count": 6,
   "id": "af55d682-888a-44e7-9882-14ddc03f7c3d",
   "metadata": {},
   "outputs": [],
   "source": [
    "my_date = datetime(my_year,my_month,my_day)"
   ]
  },
  {
   "cell_type": "code",
   "execution_count": 8,
   "id": "18510063-b18c-4fd9-8adc-81b981658bca",
   "metadata": {},
   "outputs": [
    {
     "data": {
      "text/plain": [
       "datetime.datetime(2020, 1, 2, 0, 0)"
      ]
     },
     "execution_count": 8,
     "metadata": {},
     "output_type": "execute_result"
    }
   ],
   "source": [
    "my_date"
   ]
  },
  {
   "cell_type": "code",
   "execution_count": 10,
   "id": "ec5f3fd8-5f79-40f7-b68c-6db7ad58d841",
   "metadata": {},
   "outputs": [],
   "source": [
    "my_date_time = datetime(my_year,my_month,my_day,my_hour,my_min,my_sce)"
   ]
  },
  {
   "cell_type": "code",
   "execution_count": 12,
   "id": "76389900-5cce-4722-be3d-d9eb1682f641",
   "metadata": {},
   "outputs": [
    {
     "data": {
      "text/plain": [
       "datetime.datetime(2020, 1, 2, 13, 30, 15)"
      ]
     },
     "execution_count": 12,
     "metadata": {},
     "output_type": "execute_result"
    }
   ],
   "source": [
    "my_date_time"
   ]
  },
  {
   "cell_type": "code",
   "execution_count": 18,
   "id": "d23598f8-b5ad-4235-b00b-2d2dee5c8435",
   "metadata": {},
   "outputs": [
    {
     "data": {
      "text/plain": [
       "2"
      ]
     },
     "execution_count": 18,
     "metadata": {},
     "output_type": "execute_result"
    }
   ],
   "source": [
    "my_date_time.day"
   ]
  },
  {
   "cell_type": "code",
   "execution_count": 20,
   "id": "db647ab2-e9b4-4cce-a4cf-14c76946b85e",
   "metadata": {},
   "outputs": [],
   "source": [
    "import numpy as np\n"
   ]
  },
  {
   "cell_type": "code",
   "execution_count": 30,
   "id": "6f4f79d1-5532-43fd-bb17-180f83dbef4c",
   "metadata": {},
   "outputs": [
    {
     "data": {
      "text/plain": [
       "array(['2020-03-15T00', '2020-03-16T00', '2020-03-17T00'],\n",
       "      dtype='datetime64[h]')"
      ]
     },
     "execution_count": 30,
     "metadata": {},
     "output_type": "execute_result"
    }
   ],
   "source": [
    "np.array(['2020-03-15','2020-03-16','2020-03-17'],dtype='datetime64[h]')"
   ]
  },
  {
   "cell_type": "code",
   "execution_count": 34,
   "id": "c3ab4ccc-ef5d-4476-bf45-5d124868934c",
   "metadata": {},
   "outputs": [
    {
     "data": {
      "text/plain": [
       "array(['2018-06-01', '2018-06-08', '2018-06-15', '2018-06-22'],\n",
       "      dtype='datetime64[D]')"
      ]
     },
     "execution_count": 34,
     "metadata": {},
     "output_type": "execute_result"
    }
   ],
   "source": [
    "np.arange('2018-06-01','2018-06-23',7,dtype='datetime64[D]')"
   ]
  },
  {
   "cell_type": "code",
   "execution_count": 38,
   "id": "bb25768c-deaf-49cc-a4ee-4edbdc1263ea",
   "metadata": {},
   "outputs": [
    {
     "data": {
      "text/plain": [
       "array(['1968', '1969', '1970', '1971', '1972', '1973', '1974', '1975'],\n",
       "      dtype='datetime64[Y]')"
      ]
     },
     "execution_count": 38,
     "metadata": {},
     "output_type": "execute_result"
    }
   ],
   "source": [
    "np.arange('1968','1976',dtype='datetime64[Y]')"
   ]
  },
  {
   "cell_type": "code",
   "execution_count": 40,
   "id": "c778dcc0-3a01-4c03-a7ad-260de6c2d667",
   "metadata": {},
   "outputs": [],
   "source": [
    "import pandas as pd"
   ]
  },
  {
   "cell_type": "code",
   "execution_count": 46,
   "id": "c7a42d2a-4135-47e5-80b5-65b633232b89",
   "metadata": {},
   "outputs": [
    {
     "data": {
      "text/plain": [
       "DatetimeIndex(['2018-01-01', '2018-01-02', '2018-01-03', '2018-01-04',\n",
       "               '2018-01-05', '2018-01-06', '2018-01-07'],\n",
       "              dtype='datetime64[ns]', freq='D')"
      ]
     },
     "execution_count": 46,
     "metadata": {},
     "output_type": "execute_result"
    }
   ],
   "source": [
    "pd.date_range('Jan 01, 2018',periods=7,freq='D')"
   ]
  },
  {
   "cell_type": "code",
   "execution_count": 60,
   "id": "827a86f0-b683-43ed-8e4a-f286a6369987",
   "metadata": {},
   "outputs": [
    {
     "data": {
      "text/plain": [
       "DatetimeIndex(['2018-02-01', '2018-03-01'], dtype='datetime64[ns]', freq=None)"
      ]
     },
     "execution_count": 60,
     "metadata": {},
     "output_type": "execute_result"
    }
   ],
   "source": [
    "pd.to_datetime(['2/1/2018','3/1/2018'],format=)"
   ]
  },
  {
   "cell_type": "code",
   "execution_count": 64,
   "id": "d30a0373-b6f3-42f0-bdd0-303cf9dfe3ce",
   "metadata": {},
   "outputs": [
    {
     "name": "stdout",
     "output_type": "stream",
     "text": [
      "[[-1.10380364  0.69023925]\n",
      " [-1.26823754  0.49349514]\n",
      " [-0.49870833 -0.50616478]]\n"
     ]
    }
   ],
   "source": [
    "data=np.random.randn(3,2)\n",
    "cols = ['A','B']\n",
    "print(data)"
   ]
  },
  {
   "cell_type": "code",
   "execution_count": 70,
   "id": "7930059f-f38a-45c3-be35-ca2ebd30953e",
   "metadata": {},
   "outputs": [],
   "source": [
    "idx = pd.date_range('2020-01-01',periods=3,freq='D')\n",
    "\n",
    "df = pd.DataFrame(data,index=idx,columns=cols)\n"
   ]
  },
  {
   "cell_type": "code",
   "execution_count": 72,
   "id": "e7b84ea5-0a8e-4d76-96f3-488916b3eb09",
   "metadata": {},
   "outputs": [
    {
     "data": {
      "text/html": [
       "<div>\n",
       "<style scoped>\n",
       "    .dataframe tbody tr th:only-of-type {\n",
       "        vertical-align: middle;\n",
       "    }\n",
       "\n",
       "    .dataframe tbody tr th {\n",
       "        vertical-align: top;\n",
       "    }\n",
       "\n",
       "    .dataframe thead th {\n",
       "        text-align: right;\n",
       "    }\n",
       "</style>\n",
       "<table border=\"1\" class=\"dataframe\">\n",
       "  <thead>\n",
       "    <tr style=\"text-align: right;\">\n",
       "      <th></th>\n",
       "      <th>A</th>\n",
       "      <th>B</th>\n",
       "    </tr>\n",
       "  </thead>\n",
       "  <tbody>\n",
       "    <tr>\n",
       "      <th>2020-01-01</th>\n",
       "      <td>-1.103804</td>\n",
       "      <td>0.690239</td>\n",
       "    </tr>\n",
       "    <tr>\n",
       "      <th>2020-01-02</th>\n",
       "      <td>-1.268238</td>\n",
       "      <td>0.493495</td>\n",
       "    </tr>\n",
       "    <tr>\n",
       "      <th>2020-01-03</th>\n",
       "      <td>-0.498708</td>\n",
       "      <td>-0.506165</td>\n",
       "    </tr>\n",
       "  </tbody>\n",
       "</table>\n",
       "</div>"
      ],
      "text/plain": [
       "                   A         B\n",
       "2020-01-01 -1.103804  0.690239\n",
       "2020-01-02 -1.268238  0.493495\n",
       "2020-01-03 -0.498708 -0.506165"
      ]
     },
     "execution_count": 72,
     "metadata": {},
     "output_type": "execute_result"
    }
   ],
   "source": [
    "df"
   ]
  },
  {
   "cell_type": "code",
   "execution_count": 74,
   "id": "fa56deef-714b-42df-87ee-a1cf2b1d3520",
   "metadata": {},
   "outputs": [
    {
     "data": {
      "text/plain": [
       "DatetimeIndex(['2020-01-01', '2020-01-02', '2020-01-03'], dtype='datetime64[ns]', freq='D')"
      ]
     },
     "execution_count": 74,
     "metadata": {},
     "output_type": "execute_result"
    }
   ],
   "source": [
    "df.index"
   ]
  },
  {
   "cell_type": "code",
   "execution_count": 76,
   "id": "3db59954-5614-4633-aa5a-6825ab2a360c",
   "metadata": {},
   "outputs": [
    {
     "data": {
      "text/plain": [
       "Timestamp('2020-01-03 00:00:00')"
      ]
     },
     "execution_count": 76,
     "metadata": {},
     "output_type": "execute_result"
    }
   ],
   "source": [
    "df.index.max()"
   ]
  },
  {
   "cell_type": "code",
   "execution_count": 78,
   "id": "280855a8-16ef-4e22-990f-e15efe9073f9",
   "metadata": {},
   "outputs": [
    {
     "data": {
      "text/plain": [
       "2"
      ]
     },
     "execution_count": 78,
     "metadata": {},
     "output_type": "execute_result"
    }
   ],
   "source": [
    "df.index.argmax()"
   ]
  },
  {
   "cell_type": "code",
   "execution_count": 80,
   "id": "5380723d-cc22-4638-af28-b9a72df35ada",
   "metadata": {},
   "outputs": [
    {
     "data": {
      "text/plain": [
       "Timestamp('2020-01-01 00:00:00')"
      ]
     },
     "execution_count": 80,
     "metadata": {},
     "output_type": "execute_result"
    }
   ],
   "source": [
    "df.index.min()"
   ]
  },
  {
   "cell_type": "code",
   "execution_count": null,
   "id": "3430f778-60f2-4788-bdb2-e8eefcb24771",
   "metadata": {},
   "outputs": [],
   "source": []
  }
 ],
 "metadata": {
  "kernelspec": {
   "display_name": "Python 3 (ipykernel)",
   "language": "python",
   "name": "python3"
  },
  "language_info": {
   "codemirror_mode": {
    "name": "ipython",
    "version": 3
   },
   "file_extension": ".py",
   "mimetype": "text/x-python",
   "name": "python",
   "nbconvert_exporter": "python",
   "pygments_lexer": "ipython3",
   "version": "3.11.7"
  }
 },
 "nbformat": 4,
 "nbformat_minor": 5
}
